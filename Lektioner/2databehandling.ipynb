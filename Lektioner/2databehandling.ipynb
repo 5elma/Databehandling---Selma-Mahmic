{
 "cells": [
  {
   "cell_type": "code",
   "execution_count": 2,
   "metadata": {},
   "outputs": [
    {
     "ename": "ModuleNotFoundError",
     "evalue": "No module named 'plotly_express'",
     "output_type": "error",
     "traceback": [
      "\u001b[1;31m---------------------------------------------------------------------------\u001b[0m",
      "\u001b[1;31mModuleNotFoundError\u001b[0m                       Traceback (most recent call last)",
      "Cell \u001b[1;32mIn[2], line 1\u001b[0m\n\u001b[1;32m----> 1\u001b[0m \u001b[38;5;28;01mimport\u001b[39;00m \u001b[38;5;21;01mplotly_express\u001b[39;00m \u001b[38;5;28;01mas\u001b[39;00m \u001b[38;5;21;01mpx\u001b[39;00m\n\u001b[0;32m      3\u001b[0m gapminder \u001b[38;5;241m=\u001b[39m px\u001b[38;5;241m.\u001b[39mdata\u001b[38;5;241m.\u001b[39mgapminder()\n\u001b[0;32m      4\u001b[0m nordic \u001b[38;5;241m=\u001b[39m gapminder[gapminder[\u001b[38;5;124m\"\u001b[39m\u001b[38;5;124mcountry\u001b[39m\u001b[38;5;124m\"\u001b[39m]\u001b[38;5;241m.\u001b[39misin([\u001b[38;5;124m\"\u001b[39m\u001b[38;5;124mSweden\u001b[39m\u001b[38;5;124m\"\u001b[39m, \u001b[38;5;124m\"\u001b[39m\u001b[38;5;124mNorway\u001b[39m\u001b[38;5;124m\"\u001b[39m, \u001b[38;5;124m\"\u001b[39m\u001b[38;5;124mIceland\u001b[39m\u001b[38;5;124m\"\u001b[39m, \u001b[38;5;124m\"\u001b[39m\u001b[38;5;124mDenmark\u001b[39m\u001b[38;5;124m\"\u001b[39m, \u001b[38;5;124m\"\u001b[39m\u001b[38;5;124mFinland\u001b[39m\u001b[38;5;124m\"\u001b[39m])]\n",
      "\u001b[1;31mModuleNotFoundError\u001b[0m: No module named 'plotly_express'"
     ]
    }
   ],
   "source": [
    "import plotly_express as px\n",
    "\n",
    "gapminder = px.data.gapminder()\n",
    "nordic = gapminder[gapminder[\"country\"].isin([\"Sweden\", \"Norway\", \"Iceland\", \"Denmark\", \"Finland\"])]\n",
    "nordic2007 = nordic[nordic[\"year\"] == 2007]\n",
    "nordic2007"
   ]
  },
  {
   "cell_type": "code",
   "execution_count": null,
   "metadata": {},
   "outputs": [],
   "source": [
    "sweden = gapminder[gapminder[\"country\" == \"Sweden\"]]\n",
    "fig = px.bar(sweden, x=\"year\", y=\"pop\", \n",
    "             title=f\"Population in Sweden {sweden[\"year\"].min()}-{sweden[\"year\"].max()}\"\n",
    "             labels = {\"year\": \"Year\", \"pop\": \"Population\"})\n",
    "fig.show()"
   ]
  },
  {
   "cell_type": "code",
   "execution_count": null,
   "metadata": {},
   "outputs": [],
   "source": [
    "fig = px.bar(nordic2007, x=\"country\", y=\"gdpPercap\", color=\"counry\", title=\"Nordic countries GDP per\")\n",
    "fig.show()"
   ]
  },
  {
   "cell_type": "code",
   "execution_count": null,
   "metadata": {},
   "outputs": [],
   "source": [
    "fig = px.line(sweden, x=\"year\", y=\"gdpPercap\", title=\"GDP per capita Sverige\")"
   ]
  },
  {
   "cell_type": "code",
   "execution_count": null,
   "metadata": {},
   "outputs": [],
   "source": [
    "fig = px.line(nordic, x=\"year\", y=\"gdpPercao\", color=\"country\", title=\"Nordic countries GDP per capital\"\n",
    "                labels = dict(gdpPercap = \"GDP per capita\"))\n",
    "fig.update_layout(hovermode=\"x\")\n",
    "fig.update_xaxes(\n",
    "    showspikes=True,\n",
    "    spikedash=\"solid\",\n",
    "    spikecolor=\"green\",\n",
    "    spikemode=\"across\"\n",
    "    spikesnap=\"\"\n"
   ]
  },
  {
   "cell_type": "code",
   "execution_count": null,
   "metadata": {},
   "outputs": [],
   "source": [
    "fig = px.pie(nordic2007, values=\"pop\", title=\"Population of nordic countries\", names=\"country\",\n",
    "             hover_data=[\"gdpPercap\"])\n",
    "fig.update_traces(textinfo=\"label+percent\")\n",
    "fig.show()"
   ]
  },
  {
   "cell_type": "code",
   "execution_count": null,
   "metadata": {},
   "outputs": [],
   "source": [
    "fig = px.scatter(gapminder, x=\"gdpPercap\", y=\"lifeExp\"\n",
    "                 size=\"pop\", color=\"country\", size_max=70, log_x=True\n",
    "                 animation"
   ]
  },
  {
   "cell_type": "code",
   "execution_count": null,
   "metadata": {},
   "outputs": [],
   "source": []
  }
 ],
 "metadata": {
  "kernelspec": {
   "display_name": "Python 3",
   "language": "python",
   "name": "python3"
  },
  "language_info": {
   "codemirror_mode": {
    "name": "ipython",
    "version": 3
   },
   "file_extension": ".py",
   "mimetype": "text/x-python",
   "name": "python",
   "nbconvert_exporter": "python",
   "pygments_lexer": "ipython3",
   "version": "3.12.5"
  }
 },
 "nbformat": 4,
 "nbformat_minor": 2
}
